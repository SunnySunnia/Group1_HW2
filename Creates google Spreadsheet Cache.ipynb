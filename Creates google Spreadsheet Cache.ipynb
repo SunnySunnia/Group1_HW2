{
 "metadata": {
  "name": "Creates google Spreadsheet Cache"
 },
 "nbformat": 3,
 "nbformat_minor": 0,
 "worksheets": [
  {
   "cells": [
    {
     "cell_type": "code",
     "collapsed": false,
     "input": [
      "import urllib\n",
      "import json\n",
      "import pandas as pd\n",
      "from pprint import pprint\n",
      "import numpy\n",
      "\n",
      "url = 'http://earthquake.usgs.gov/earthquakes/feed/v1.0/summary/1.0_week.geojson'\n",
      "url\n"
     ],
     "language": "python",
     "metadata": {},
     "outputs": [],
     "prompt_number": "*"
    },
    {
     "cell_type": "code",
     "collapsed": false,
     "input": [
      "d = json.load(open('1.0_week.geojson'))\n",
      "data = pd.DataFrame(d.items())\n",
      "data"
     ],
     "language": "python",
     "metadata": {},
     "outputs": [],
     "prompt_number": "*"
    },
    {
     "cell_type": "code",
     "collapsed": false,
     "input": [
      "data[1][1][0]"
     ],
     "language": "python",
     "metadata": {},
     "outputs": [],
     "prompt_number": "*"
    },
    {
     "cell_type": "code",
     "collapsed": false,
     "input": [
      "earthquakes = []\n",
      "\n",
      "for categories in data[1][1]:\n",
      "    \n",
      "    src = categories['properties']['net']\n",
      "    code = categories['properties']['code']\n",
      "    time = categories['properties']['time']\n",
      "    longitude = categories['geometry']['coordinates'][1]\n",
      "    latitude = categories['geometry']['coordinates'][0]\n",
      "    magnitude = categories['properties']['mag']\n",
      "    depth = categories['geometry']['coordinates'][2]\n",
      "    nst = categories['properties']['nst']\n",
      "    place = categories['properties']['place']\n",
      "    earthquake_columns = [src, code, time, longitude, latitude, magnitude, depth, nst, place]\n",
      "    \n",
      "    earthquakes.append(earthquake_columns)\n",
      "\n",
      "earthquakes\n",
      "\n",
      "df = pd.DataFrame(numpy.array(earthquakes),\n",
      " columns = ['Src','Code','Time','Latitude','Longitude','Magnitude','Depth','Nst','Place'])\n",
      "df[0:20]"
     ],
     "language": "python",
     "metadata": {},
     "outputs": [],
     "prompt_number": "*"
    },
    {
     "cell_type": "code",
     "collapsed": false,
     "input": [
      "set(df.Src)"
     ],
     "language": "python",
     "metadata": {},
     "outputs": [],
     "prompt_number": "*"
    },
    {
     "cell_type": "code",
     "collapsed": false,
     "input": [
      "california = df[df.Src=='ci']\n",
      "california[0:5]\n",
      "print california.Longitude[0:5]\n",
      "california.Latitude[0:5]"
     ],
     "language": "python",
     "metadata": {},
     "outputs": [],
     "prompt_number": "*"
    },
    {
     "cell_type": "code",
     "collapsed": false,
     "input": [
      "import os.path\n",
      "import ConfigParser"
     ],
     "language": "python",
     "metadata": {},
     "outputs": [],
     "prompt_number": "*"
    },
    {
     "cell_type": "code",
     "collapsed": false,
     "input": [
      "from itertools import islice\n",
      "def take(n, iterable):\n",
      "    \"Return first n items of the iterable as a list\"\n",
      "    return list(islice(iterable, n))"
     ],
     "language": "python",
     "metadata": {},
     "outputs": [],
     "prompt_number": "*"
    },
    {
     "cell_type": "code",
     "collapsed": false,
     "input": [
      "home = os.path.expanduser(\"~\")\n",
      "configfile = os.path.join(home, 'stat157.cfg')\n",
      "config = ConfigParser.SafeConfigParser()\n",
      "config.read(configfile)\n",
      "username = config.get('google', 'username')\n",
      "password = config.get('google', 'password')\n",
      "print username"
     ],
     "language": "python",
     "metadata": {},
     "outputs": [],
     "prompt_number": "*"
    },
    {
     "cell_type": "code",
     "collapsed": false,
     "input": [
      "import gspread\n",
      "gspread_client = gspread.login(username, password)"
     ],
     "language": "python",
     "metadata": {},
     "outputs": [],
     "prompt_number": "*"
    },
    {
     "cell_type": "code",
     "collapsed": false,
     "input": [
      "import gdata.docs.client\n",
      "gdata_client = gdata.docs.client.DocsClient()\n",
      "gdata_client.ClientLogin(username, password, 'Stat157 Client')\n",
      "filename = \"stat157-homework-02-quake-data\"\n",
      "document = gdata.docs.data.Resource(type='spreadsheet', title = filename)\n",
      "document = gdata_client.CreateResource(document)\n",
      "document"
     ],
     "language": "python",
     "metadata": {},
     "outputs": [],
     "prompt_number": "*"
    },
    {
     "cell_type": "code",
     "collapsed": false,
     "input": [
      "try:\n",
      "    gspread_client.open(filename)\n",
      "except Exception, e:\n",
      "    document = gdata.docs.data.Resource(type='spreadsheet', title=filename)\n",
      "    document = gd_client.CreateResource(document)"
     ],
     "language": "python",
     "metadata": {},
     "outputs": [],
     "prompt_number": "*"
    },
    {
     "cell_type": "code",
     "collapsed": false,
     "input": [
      "spreadsheet = gspread_client.open(filename)\n",
      "worksheet = spreadsheet.get_worksheet(0)"
     ],
     "language": "python",
     "metadata": {},
     "outputs": [],
     "prompt_number": "*"
    },
    {
     "cell_type": "code",
     "collapsed": false,
     "input": [
      "#issue located here, unable to add columns\n",
      "worksheet.add_cols("
     ],
     "language": "python",
     "metadata": {},
     "outputs": [
      {
       "ename": "TypeError",
       "evalue": "add_cols() takes exactly 2 arguments (3 given)",
       "output_type": "pyerr",
       "traceback": [
        "\u001b[0;31m---------------------------------------------------------------------------\u001b[0m\n\u001b[0;31mTypeError\u001b[0m                                 Traceback (most recent call last)",
        "\u001b[0;32m<ipython-input-15-a084d2410c59>\u001b[0m in \u001b[0;36m<module>\u001b[0;34m()\u001b[0m\n\u001b[1;32m      1\u001b[0m \u001b[0;31m#issue located here, unable to add columns\u001b[0m\u001b[0;34m\u001b[0m\u001b[0;34m\u001b[0m\u001b[0m\n\u001b[0;32m----> 2\u001b[0;31m \u001b[0mworksheet\u001b[0m\u001b[0;34m.\u001b[0m\u001b[0madd_cols\u001b[0m\u001b[0;34m(\u001b[0m\u001b[0mdf\u001b[0m\u001b[0;34m[\u001b[0m\u001b[0;36m1\u001b[0m\u001b[0;34m:\u001b[0m\u001b[0;36m20\u001b[0m\u001b[0;34m]\u001b[0m\u001b[0;34m,\u001b[0m \u001b[0;36m1\u001b[0m\u001b[0;34m)\u001b[0m\u001b[0;34m\u001b[0m\u001b[0m\n\u001b[0m",
        "\u001b[0;31mTypeError\u001b[0m: add_cols() takes exactly 2 arguments (3 given)"
       ]
      }
     ],
     "prompt_number": 15
    },
    {
     "cell_type": "code",
     "collapsed": false,
     "input": [],
     "language": "python",
     "metadata": {},
     "outputs": [],
     "prompt_number": "*"
    }
   ],
   "metadata": {}
  }
 ]
}